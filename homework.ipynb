{
  "nbformat": 4,
  "nbformat_minor": 0,
  "metadata": {
    "colab": {
      "provenance": [],
      "authorship_tag": "ABX9TyOJtMf+us8XwD3p7QZf/TiE",
      "include_colab_link": true
    },
    "kernelspec": {
      "name": "python3",
      "display_name": "Python 3"
    },
    "language_info": {
      "name": "python"
    }
  },
  "cells": [
    {
      "cell_type": "markdown",
      "metadata": {
        "id": "view-in-github",
        "colab_type": "text"
      },
      "source": [
        "<a href=\"https://colab.research.google.com/github/Ima335/Homework/blob/main/homework.ipynb\" target=\"_parent\"><img src=\"https://colab.research.google.com/assets/colab-badge.svg\" alt=\"Open In Colab\"/></a>"
      ]
    },
    {
      "cell_type": "markdown",
      "source": [
        "**Задача 1**\n",
        "\n",
        "Написать программу, вычисляющую объем и площадь поверхности цилиндра по заданным радиусу и высоте."
      ],
      "metadata": {
        "id": "R5og696Qkhwa"
      }
    },
    {
      "cell_type": "code",
      "source": [
        "import math\n",
        "\n",
        "radius = float(input(\"Введите радиус цилиндра: \"))\n",
        "height = float(input(\"Введите высоту цилиндра: \"))\n",
        "\n",
        "volume = math.pi * radius**2 * height\n",
        "surface_area = 2 * math.pi * radius * (radius + height)\n",
        "\n",
        "print(f\"Объем цилиндра: {volume:.2f}\")\n",
        "print(f\"Площадь поверхности цилиндра: {surface_area:.2f}\")"
      ],
      "metadata": {
        "colab": {
          "base_uri": "https://localhost:8080/"
        },
        "id": "j0M2xraikZPJ",
        "outputId": "bb540e97-fcce-4355-eab7-6736c48fce64"
      },
      "execution_count": null,
      "outputs": [
        {
          "output_type": "stream",
          "name": "stdout",
          "text": [
            "Введите радиус цилиндра: 3\n",
            "Введите высоту цилиндра: 3\n",
            "Объем цилиндра: 84.82\n",
            "Площадь поверхности цилиндра: 113.10\n"
          ]
        }
      ]
    },
    {
      "cell_type": "markdown",
      "source": [
        "**Задача 2**\n",
        "\n",
        "Написать программу, вычисляющую корень квадратного уравнения"
      ],
      "metadata": {
        "id": "UQcWcIoDlFsE"
      }
    },
    {
      "cell_type": "code",
      "source": [
        "import math\n",
        "\n",
        "print(\"Решение квадратного уравнения ax² + bx + c = 0\")\n",
        "\n",
        "a = float(input(\"a = \"))\n",
        "b = float(input(\"b = \"))\n",
        "c = float(input(\"c = \"))\n",
        "\n",
        "if a == 0:\n",
        "    print(\"Ошибка: это не квадратное уравнение!\")\n",
        "else:\n",
        "    D = b**2 - 4*a*c\n",
        "    print(f\"Дискриминант D = {D}\")\n",
        "\n",
        "    if D > 0:\n",
        "        x1 = (-b + math.sqrt(D)) / (2*a)\n",
        "        x2 = (-b - math.sqrt(D)) / (2*a)\n",
        "        print(f\"Два корня: x₁ = {x1:.2f}, x₂ = {x2:.2f}\")\n",
        "    elif D == 0:\n",
        "        x = -b / (2*a)\n",
        "        print(f\"Один корень: x = {x:.2f}\")\n",
        "    else:\n",
        "        print(\"Действительных корней нет\")"
      ],
      "metadata": {
        "colab": {
          "base_uri": "https://localhost:8080/"
        },
        "id": "WIMqfXm6lIBu",
        "outputId": "93a9201d-34eb-4686-c882-f557563509cb"
      },
      "execution_count": null,
      "outputs": [
        {
          "output_type": "stream",
          "name": "stdout",
          "text": [
            "Решение квадратного уравнения ax² + bx + c = 0\n",
            "a = 1\n",
            "b = 2\n",
            "c = 3\n",
            "Дискриминант D = -8.0\n",
            "Действительных корней нет\n"
          ]
        }
      ]
    },
    {
      "cell_type": "markdown",
      "source": [
        "***Задача 3***\n",
        "\n",
        "На основе массива А сформировать массив B, в котором элементы расположены в порядке возрастания"
      ],
      "metadata": {
        "id": "VBIpvDSil7w0"
      }
    },
    {
      "cell_type": "code",
      "source": [
        "import random\n",
        "A = []\n",
        "for i in range(10):\n",
        "  A.append(random.randint(-100, 100))\n",
        "print(f\"A = {A}\")\n",
        "B = [min(A)]\n",
        "min = 100\n",
        "\n",
        "while len(B) != len(A):\n",
        "  for i in range(10):\n",
        "    if (A[i] < min) & (A[i] not in B):\n",
        "      min = A[i]\n",
        "  B.append(min)\n",
        "  min = 100\n",
        "print(f\"B = {B}\")"
      ],
      "metadata": {
        "colab": {
          "base_uri": "https://localhost:8080/"
        },
        "id": "3SCsAy-gmALb",
        "outputId": "172e170a-3575-42e9-ffa8-ade3b7a8aa33"
      },
      "execution_count": null,
      "outputs": [
        {
          "output_type": "stream",
          "name": "stdout",
          "text": [
            "A = [-8, -92, -18, -35, 79, 3, -57, 43, -80, -87]\n",
            "B = [-92, -87, -80, -57, -35, -18, -8, 3, 43, 79]\n"
          ]
        }
      ]
    },
    {
      "cell_type": "markdown",
      "source": [
        "**Задача 4**\n",
        "\n",
        "Решить задачу 3 через собственную функцию сортировки"
      ],
      "metadata": {
        "id": "tSzdBeWGoG1T"
      }
    },
    {
      "cell_type": "code",
      "source": [
        "import random\n",
        "\n",
        "def selectSort(A, n):\n",
        "    for i in range(0, n - 1):\n",
        "      for j in range(i + 1, n):\n",
        "        if A[i] > A[j]:\n",
        "          A[i], A[j] = A[j], A[i]\n",
        "\n",
        "def gen_sec(n):\n",
        "  A = []\n",
        "  for i in range(n):\n",
        "    A.append(random.randint(0, n))\n",
        "  return A\n",
        "\n",
        "n = 15\n",
        "A = gen_sec(n)\n",
        "selectSort(A,n)\n",
        "print(f\"A = {A}\")\n"
      ],
      "metadata": {
        "colab": {
          "base_uri": "https://localhost:8080/"
        },
        "id": "93R7jE7EvME6",
        "outputId": "bcb26d8f-9b96-4374-e57b-e507cc5455ea"
      },
      "execution_count": null,
      "outputs": [
        {
          "output_type": "stream",
          "name": "stdout",
          "text": [
            "A = [2, 2, 3, 3, 4, 5, 9, 9, 9, 12, 13, 13, 13, 13, 15]\n"
          ]
        }
      ]
    },
    {
      "cell_type": "markdown",
      "source": [
        "**Решить задачу через функцию сортировки пузырьком**"
      ],
      "metadata": {
        "id": "Q7FfkmVA1QAV"
      }
    },
    {
      "cell_type": "code",
      "source": [
        "import random\n",
        "\n",
        "def bubbleSort(A):\n",
        "    n = len(A)\n",
        "    for i in range(0, n - 1):\n",
        "      for j in range(1, n - i):\n",
        "        if A[j - 1] > A[j]:\n",
        "          A[j - 1], A[j] = A[j], A[j - 1]\n",
        "\n",
        "def gen_sec(n):\n",
        "  A = []\n",
        "  for i in range(n):\n",
        "    A.append(random.randint(0, n))\n",
        "  return A\n",
        "\n",
        "n = 10\n",
        "A = gen_sec(n)\n",
        "A = [3, 4, 5, 6, 1]\n",
        "print(f\"A = {A}\")\n",
        "bubbleSort(A)\n",
        "print(f\"A = {A}\")"
      ],
      "metadata": {
        "id": "CtEvj3T11cB1",
        "outputId": "9b7325f2-0c83-45b4-fe2d-dfaf17dceecd",
        "colab": {
          "base_uri": "https://localhost:8080/"
        }
      },
      "execution_count": 2,
      "outputs": [
        {
          "output_type": "stream",
          "name": "stdout",
          "text": [
            "A = [3, 4, 5, 6, 1]\n",
            "A = [1, 3, 4, 5, 6]\n"
          ]
        }
      ]
    },
    {
      "cell_type": "markdown",
      "source": [
        "**Сортировка вставкой**"
      ],
      "metadata": {
        "id": "UNqe9sBJ1gQG"
      }
    },
    {
      "cell_type": "code",
      "source": [
        "import random\n",
        "\n",
        "def insert_sort(A):\n",
        "    i = 1\n",
        "\n",
        "    while i < len(A):\n",
        "        forInsert = A[i]\n",
        "        j = i - 1\n",
        "\n",
        "        while j >= 0 and A[j] > forInsert:\n",
        "            A[j + 1] = A[j]\n",
        "            j -= 1\n",
        "\n",
        "        A[j + 1] = forInsert\n",
        "        i += 1\n",
        "\n",
        "    return A\n",
        "\n",
        "def gen_sec(n):\n",
        "  A = []\n",
        "  for i in range(n):\n",
        "    A.append(random.randint(0, n))\n",
        "  return A\n",
        "\n",
        "n = 10\n",
        "A = gen_sec(n)\n",
        "print(f\"A = {A}\")\n",
        "insert_sort(A)\n",
        "print(f\"A = {A}\")"
      ],
      "metadata": {
        "id": "cQfc4vWB1pPL",
        "outputId": "2d9acbcc-beb5-4988-bd45-b9b109fe7af1",
        "colab": {
          "base_uri": "https://localhost:8080/"
        }
      },
      "execution_count": 1,
      "outputs": [
        {
          "output_type": "stream",
          "name": "stdout",
          "text": [
            "A = [6, 2, 4, 8, 8, 3, 4, 6, 1, 9]\n",
            "A = [1, 2, 3, 4, 4, 6, 6, 8, 8, 9]\n"
          ]
        }
      ]
    },
    {
      "cell_type": "markdown",
      "source": [
        "**Задача 5**\n",
        "\n",
        "Найти число Пи"
      ],
      "metadata": {
        "id": "KptzA-zz1zDb"
      }
    },
    {
      "cell_type": "code",
      "source": [
        "import random\n",
        "import math\n",
        "\n",
        "def isInCircle(R):\n",
        "  x = random.random() * 2 * R - R;\n",
        "  y = random.random() * 2 * R - R;\n",
        "  d = math.sqrt(x**2 + y**2)\n",
        "  if d < R:\n",
        "    return True\n",
        "  else:\n",
        "    return False\n",
        "\n",
        "N = 10000000\n",
        "n = 0\n",
        "R = 10\n",
        "for i in range(N):\n",
        "  if isInCircle(R):\n",
        "    n += 1\n",
        "\n",
        "pi = 4 * n / N\n",
        "print(pi)"
      ],
      "metadata": {
        "colab": {
          "base_uri": "https://localhost:8080/"
        },
        "id": "DTyzX-I618_v",
        "outputId": "edb73f66-736c-4254-a1c7-d66002ddfb7f"
      },
      "execution_count": null,
      "outputs": [
        {
          "output_type": "stream",
          "name": "stdout",
          "text": [
            "3.141264\n"
          ]
        }
      ]
    },
    {
      "cell_type": "markdown",
      "source": [
        "**Реализовать спиральное заполнение массива**"
      ],
      "metadata": {
        "id": "BKf08JZ22RvV"
      }
    },
    {
      "cell_type": "code",
      "source": [
        "def create_matrix(size):\n",
        "    mat = []\n",
        "    for i in range(size):\n",
        "        row = []\n",
        "        for j in range(size):\n",
        "            row.append(0)\n",
        "        mat.append(row)\n",
        "    return mat\n",
        "\n",
        "def Spiral(mat, size):\n",
        "    t = 0\n",
        "    b = size - 1\n",
        "    l = 0\n",
        "    r = size - 1\n",
        "    num = 1\n",
        "\n",
        "    while l <= r and t <= b:\n",
        "        for j in range(l, r + 1):\n",
        "            mat[t][j] = num\n",
        "            num += 1\n",
        "        t += 1\n",
        "\n",
        "        for i in range(t, b + 1):\n",
        "            mat[i][r] = num\n",
        "            num += 1\n",
        "        r -= 1\n",
        "\n",
        "        if t <= b:\n",
        "            for j in range(r, l - 1, -1):\n",
        "                mat[b][j] = num\n",
        "                num += 1\n",
        "            b -= 1\n",
        "\n",
        "        if l <= r:\n",
        "            for i in range(b, t - 1, -1):\n",
        "                mat[i][l] = num\n",
        "                num += 1\n",
        "            l += 1\n",
        "\n",
        "n = 5\n",
        "matrix = create_matrix(n)\n",
        "Spiral(matrix, n)\n",
        "\n",
        "for row in matrix:\n",
        "    print(*row)"
      ],
      "metadata": {
        "id": "K1sTDCn_2bvO",
        "outputId": "a1631ebe-b9aa-4d11-867a-decbe43d232c",
        "colab": {
          "base_uri": "https://localhost:8080/"
        }
      },
      "execution_count": 4,
      "outputs": [
        {
          "output_type": "stream",
          "name": "stdout",
          "text": [
            "1 2 3 4 5\n",
            "16 17 18 19 6\n",
            "15 24 25 20 7\n",
            "14 23 22 21 8\n",
            "13 12 11 10 9\n"
          ]
        }
      ]
    }
  ]
}