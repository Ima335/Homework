{
  "nbformat": 4,
  "nbformat_minor": 0,
  "metadata": {
    "colab": {
      "provenance": [],
      "authorship_tag": "ABX9TyNfmyphXk7oW2i8eG9zzA/0",
      "include_colab_link": true
    },
    "kernelspec": {
      "name": "python3",
      "display_name": "Python 3"
    },
    "language_info": {
      "name": "python"
    }
  },
  "cells": [
    {
      "cell_type": "markdown",
      "metadata": {
        "id": "view-in-github",
        "colab_type": "text"
      },
      "source": [
        "<a href=\"https://colab.research.google.com/github/Ima335/Homework/blob/main/Homework.ipynb\" target=\"_parent\"><img src=\"https://colab.research.google.com/assets/colab-badge.svg\" alt=\"Open In Colab\"/></a>"
      ]
    },
    {
      "cell_type": "markdown",
      "source": [
        "**Задача 1**\n",
        "\n",
        "Написать программу, вычисляющую объем и площадь поверхности цилиндра по заданным радиусу и высоте."
      ],
      "metadata": {
        "id": "R5og696Qkhwa"
      }
    },
    {
      "cell_type": "code",
      "source": [
        "import math\n",
        "\n",
        "radius = float(input(\"Введите радиус цилиндра: \"))\n",
        "height = float(input(\"Введите высоту цилиндра: \"))\n",
        "\n",
        "volume = math.pi * radius**2 * height\n",
        "surface_area = 2 * math.pi * radius * (radius + height)\n",
        "\n",
        "print(f\"Объем цилиндра: {volume:.2f}\")\n",
        "print(f\"Площадь поверхности цилиндра: {surface_area:.2f}\")"
      ],
      "metadata": {
        "colab": {
          "base_uri": "https://localhost:8080/"
        },
        "id": "j0M2xraikZPJ",
        "outputId": "bb540e97-fcce-4355-eab7-6736c48fce64"
      },
      "execution_count": null,
      "outputs": [
        {
          "output_type": "stream",
          "name": "stdout",
          "text": [
            "Введите радиус цилиндра: 3\n",
            "Введите высоту цилиндра: 3\n",
            "Объем цилиндра: 84.82\n",
            "Площадь поверхности цилиндра: 113.10\n"
          ]
        }
      ]
    },
    {
      "cell_type": "markdown",
      "source": [
        "**Задача 2**\n",
        "\n",
        "Написать программу, вычисляющую корень квадратного уравнения"
      ],
      "metadata": {
        "id": "UQcWcIoDlFsE"
      }
    },
    {
      "cell_type": "code",
      "source": [
        "import math\n",
        "\n",
        "print(\"Решение квадратного уравнения ax² + bx + c = 0\")\n",
        "\n",
        "a = float(input(\"a = \"))\n",
        "b = float(input(\"b = \"))\n",
        "c = float(input(\"c = \"))\n",
        "\n",
        "if a == 0:\n",
        "    print(\"Ошибка: это не квадратное уравнение!\")\n",
        "else:\n",
        "    D = b**2 - 4*a*c\n",
        "    print(f\"Дискриминант D = {D}\")\n",
        "\n",
        "    if D > 0:\n",
        "        x1 = (-b + math.sqrt(D)) / (2*a)\n",
        "        x2 = (-b - math.sqrt(D)) / (2*a)\n",
        "        print(f\"Два корня: x₁ = {x1:.2f}, x₂ = {x2:.2f}\")\n",
        "    elif D == 0:\n",
        "        x = -b / (2*a)\n",
        "        print(f\"Один корень: x = {x:.2f}\")\n",
        "    else:\n",
        "        print(\"Действительных корней нет\")"
      ],
      "metadata": {
        "colab": {
          "base_uri": "https://localhost:8080/"
        },
        "id": "WIMqfXm6lIBu",
        "outputId": "93a9201d-34eb-4686-c882-f557563509cb"
      },
      "execution_count": null,
      "outputs": [
        {
          "output_type": "stream",
          "name": "stdout",
          "text": [
            "Решение квадратного уравнения ax² + bx + c = 0\n",
            "a = 1\n",
            "b = 2\n",
            "c = 3\n",
            "Дискриминант D = -8.0\n",
            "Действительных корней нет\n"
          ]
        }
      ]
    },
    {
      "cell_type": "markdown",
      "source": [
        "***Задача 3***\n",
        "\n",
        "На основе массива А сформировать массив B, в котором элементы расположены в порядке возрастания"
      ],
      "metadata": {
        "id": "VBIpvDSil7w0"
      }
    },
    {
      "cell_type": "code",
      "source": [
        "import random\n",
        "A = []\n",
        "for i in range(10):\n",
        "  A.append(random.randint(-100, 100))\n",
        "print(f\"A = {A}\")\n",
        "B = [min(A)]\n",
        "min = 100\n",
        "\n",
        "while len(B) != len(A):\n",
        "  for i in range(10):\n",
        "    if (A[i] < min) & (A[i] not in B):\n",
        "      min = A[i]\n",
        "  B.append(min)\n",
        "  min = 100\n",
        "print(f\"B = {B}\")"
      ],
      "metadata": {
        "colab": {
          "base_uri": "https://localhost:8080/"
        },
        "id": "3SCsAy-gmALb",
        "outputId": "172e170a-3575-42e9-ffa8-ade3b7a8aa33"
      },
      "execution_count": null,
      "outputs": [
        {
          "output_type": "stream",
          "name": "stdout",
          "text": [
            "A = [-8, -92, -18, -35, 79, 3, -57, 43, -80, -87]\n",
            "B = [-92, -87, -80, -57, -35, -18, -8, 3, 43, 79]\n"
          ]
        }
      ]
    },
    {
      "cell_type": "markdown",
      "source": [
        "**Задача 4**\n",
        "\n",
        "Решить задачу 3 через собственную функцию сортировки"
      ],
      "metadata": {
        "id": "tSzdBeWGoG1T"
      }
    },
    {
      "cell_type": "code",
      "source": [
        "import random\n",
        "\n",
        "def sort(A):\n",
        "    for i in range(0, 9):\n",
        "      for j in range(i + 1, 10):\n",
        "        if A[i] > A[j]:\n",
        "          a = A[i]\n",
        "          A[i] = A[j]\n",
        "          A[j] = a\n",
        "    return A\n",
        "\n",
        "def main():\n",
        "    A = []\n",
        "    for i in range(10):\n",
        "        A.append(random.randint(-100, 100))\n",
        "    print(f\"A = {A}\")\n",
        "\n",
        "    print(\"Отсортируем массив A\")\n",
        "    A = sort(A)\n",
        "    print(f\"A = {A}\")\n",
        "\n",
        "main()"
      ],
      "metadata": {
        "colab": {
          "base_uri": "https://localhost:8080/"
        },
        "id": "1W9kt3sDoLSo",
        "outputId": "bd1e9589-d47a-4eb2-de8e-dd1757e7a51c"
      },
      "execution_count": null,
      "outputs": [
        {
          "output_type": "stream",
          "name": "stdout",
          "text": [
            "A = [-67, -11, -82, -3, -80, -24, 100, -36, -49, 96]\n",
            "Отсортируем массив A\n",
            "A = [-82, -80, -67, -49, -36, -24, -11, -3, 96, 100]\n"
          ]
        }
      ]
    },
    {
      "cell_type": "code",
      "source": [
        "import random\n",
        "\n",
        "def selectSort(A, n):\n",
        "    for i in range(0, n - 1):\n",
        "      for j in range(i + 1, n):\n",
        "        if A[i] > A[j]:\n",
        "          A[i], A[j] = A[j], A[i]\n",
        "\n",
        "def gen_sec(n):\n",
        "  A = []\n",
        "  for i in range(n):\n",
        "    A.append(random.randint(0, n))\n",
        "  return A\n",
        "\n",
        "n = 15\n",
        "A = gen_sec(n)\n",
        "selectSort(A,n)\n",
        "print(f\"A = {A}\")\n"
      ],
      "metadata": {
        "colab": {
          "base_uri": "https://localhost:8080/"
        },
        "id": "93R7jE7EvME6",
        "outputId": "bcb26d8f-9b96-4374-e57b-e507cc5455ea"
      },
      "execution_count": null,
      "outputs": [
        {
          "output_type": "stream",
          "name": "stdout",
          "text": [
            "A = [2, 2, 3, 3, 4, 5, 9, 9, 9, 12, 13, 13, 13, 13, 15]\n"
          ]
        }
      ]
    }
  ]
}